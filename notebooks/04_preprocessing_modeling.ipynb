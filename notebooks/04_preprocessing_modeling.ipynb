{
 "cells": [
  {
   "cell_type": "markdown",
   "metadata": {},
   "source": [
    "# 4 Data Preprocessing and Modeling<a id='2_Data_wrangling'></a>"
   ]
  },
  {
   "cell_type": "code",
   "execution_count": 1,
   "metadata": {},
   "outputs": [],
   "source": [
    "# imports for handling lists\n",
    "import itertools\n",
    "# handling warnings\n",
    "import warnings\n",
    "# skimage imports\n",
    "from skimage import data, color, filters, morphology, graph, measure, exposure\n",
    "from skimage.filters import threshold_otsu, threshold_local, try_all_threshold, sobel, gaussian\n",
    "from skimage.transform import rotate, rescale, resize\n",
    "from skimage.feature import canny\n",
    "from skimage.io import imsave\n",
    "from skimage.util import img_as_ubyte\n",
    "# scipy for image\n",
    "from scipy import ndimage as ndi\n",
    "# import for file interaction\n",
    "import os\n",
    "import io\n",
    "from pathlib import Path\n",
    "import cv2\n",
    "# imports for reading from zip files\n",
    "import zipfile\n",
    "from PIL import Image\n",
    "# array and data frame imports\n",
    "import numpy as np\n",
    "import pandas as pd\n",
    "# helper functions\n",
    "import helpers as h\n",
    "# visualization tools\n",
    "from tqdm.notebook import tqdm\n",
    "import seaborn as sns\n",
    "import matplotlib.pyplot as plt\n",
    "%matplotlib inline"
   ]
  },
  {
   "cell_type": "markdown",
   "metadata": {},
   "source": [
    "The first step wil be to read the dataset were the labels and image's IDs are stored and check if the latest are unique. In this preprocessing and modeling stage, we will use a different library for interacting with the storage paths, so a couple of more transformations to the tabular data will be necessary, let's explore them."
   ]
  },
  {
   "cell_type": "code",
   "execution_count": 2,
   "metadata": {},
   "outputs": [],
   "source": [
    "# loading the dataset saved in 03_EDA\n",
    "dir_path = r'C:\\SPRINGBOARD\\retinopathy-detection' # path to repository\n",
    "labels = pd.read_csv(r'{}\\data_processed\\labels_sizes_aug.csv'.format(dir_path))"
   ]
  },
  {
   "cell_type": "code",
   "execution_count": 3,
   "metadata": {},
   "outputs": [
    {
     "name": "stdout",
     "output_type": "stream",
     "text": [
      "<class 'pandas.core.frame.DataFrame'>\n",
      "RangeIndex: 1309 entries, 0 to 1308\n",
      "Data columns (total 5 columns):\n",
      " #   Column                  Non-Null Count  Dtype \n",
      "---  ------                  --------------  ----- \n",
      " 0   Image name              1309 non-null   object\n",
      " 1   Zip File                1309 non-null   object\n",
      " 2   Image Size              1309 non-null   object\n",
      " 3   label                   1309 non-null   int64 \n",
      " 4   Risk of macular edema   1309 non-null   int64 \n",
      "dtypes: int64(2), object(3)\n",
      "memory usage: 51.3+ KB\n"
     ]
    }
   ],
   "source": [
    "labels.info()"
   ]
  },
  {
   "cell_type": "code",
   "execution_count": 4,
   "metadata": {},
   "outputs": [
    {
     "data": {
      "text/html": [
       "<div>\n",
       "<style scoped>\n",
       "    .dataframe tbody tr th:only-of-type {\n",
       "        vertical-align: middle;\n",
       "    }\n",
       "\n",
       "    .dataframe tbody tr th {\n",
       "        vertical-align: top;\n",
       "    }\n",
       "\n",
       "    .dataframe thead th {\n",
       "        text-align: right;\n",
       "    }\n",
       "</style>\n",
       "<table border=\"1\" class=\"dataframe\">\n",
       "  <thead>\n",
       "    <tr style=\"text-align: right;\">\n",
       "      <th></th>\n",
       "      <th>Image name</th>\n",
       "      <th>Zip File</th>\n",
       "      <th>Image Size</th>\n",
       "      <th>label</th>\n",
       "      <th>Risk of macular edema</th>\n",
       "    </tr>\n",
       "  </thead>\n",
       "  <tbody>\n",
       "    <tr>\n",
       "      <th>0</th>\n",
       "      <td>20051019_38557_0100_PP.tif</td>\n",
       "      <td>Base11.zip</td>\n",
       "      <td>(1488, 2240, 3)</td>\n",
       "      <td>3</td>\n",
       "      <td>1</td>\n",
       "    </tr>\n",
       "    <tr>\n",
       "      <th>1</th>\n",
       "      <td>20051020_43808_0100_PP.tif</td>\n",
       "      <td>Base11.zip</td>\n",
       "      <td>(1488, 2240, 3)</td>\n",
       "      <td>0</td>\n",
       "      <td>0</td>\n",
       "    </tr>\n",
       "    <tr>\n",
       "      <th>2</th>\n",
       "      <td>20051020_43832_0100_PP.tif</td>\n",
       "      <td>Base11.zip</td>\n",
       "      <td>(1488, 2240, 3)</td>\n",
       "      <td>1</td>\n",
       "      <td>0</td>\n",
       "    </tr>\n",
       "    <tr>\n",
       "      <th>3</th>\n",
       "      <td>20051020_43882_0100_PP.tif</td>\n",
       "      <td>Base11.zip</td>\n",
       "      <td>(1488, 2240, 3)</td>\n",
       "      <td>2</td>\n",
       "      <td>0</td>\n",
       "    </tr>\n",
       "    <tr>\n",
       "      <th>4</th>\n",
       "      <td>20051020_43906_0100_PP.tif</td>\n",
       "      <td>Base11.zip</td>\n",
       "      <td>(1488, 2240, 3)</td>\n",
       "      <td>3</td>\n",
       "      <td>2</td>\n",
       "    </tr>\n",
       "  </tbody>\n",
       "</table>\n",
       "</div>"
      ],
      "text/plain": [
       "                   Image name    Zip File       Image Size  label  \\\n",
       "0  20051019_38557_0100_PP.tif  Base11.zip  (1488, 2240, 3)      3   \n",
       "1  20051020_43808_0100_PP.tif  Base11.zip  (1488, 2240, 3)      0   \n",
       "2  20051020_43832_0100_PP.tif  Base11.zip  (1488, 2240, 3)      1   \n",
       "3  20051020_43882_0100_PP.tif  Base11.zip  (1488, 2240, 3)      2   \n",
       "4  20051020_43906_0100_PP.tif  Base11.zip  (1488, 2240, 3)      3   \n",
       "\n",
       "   Risk of macular edema   \n",
       "0                       1  \n",
       "1                       0  \n",
       "2                       0  \n",
       "3                       0  \n",
       "4                       2  "
      ]
     },
     "execution_count": 4,
     "metadata": {},
     "output_type": "execute_result"
    }
   ],
   "source": [
    "labels.head()"
   ]
  },
  {
   "cell_type": "markdown",
   "metadata": {},
   "source": [
    "The first transformation we will apply to this data frame will be changing the name of the 'Image name' colum for 'image_id'"
   ]
  },
  {
   "cell_type": "code",
   "execution_count": 5,
   "metadata": {},
   "outputs": [
    {
     "data": {
      "text/html": [
       "<div>\n",
       "<style scoped>\n",
       "    .dataframe tbody tr th:only-of-type {\n",
       "        vertical-align: middle;\n",
       "    }\n",
       "\n",
       "    .dataframe tbody tr th {\n",
       "        vertical-align: top;\n",
       "    }\n",
       "\n",
       "    .dataframe thead th {\n",
       "        text-align: right;\n",
       "    }\n",
       "</style>\n",
       "<table border=\"1\" class=\"dataframe\">\n",
       "  <thead>\n",
       "    <tr style=\"text-align: right;\">\n",
       "      <th></th>\n",
       "      <th>image_id</th>\n",
       "      <th>Zip File</th>\n",
       "      <th>Image Size</th>\n",
       "      <th>label</th>\n",
       "      <th>Risk of macular edema</th>\n",
       "    </tr>\n",
       "  </thead>\n",
       "  <tbody>\n",
       "    <tr>\n",
       "      <th>0</th>\n",
       "      <td>20051019_38557_0100_PP.tif</td>\n",
       "      <td>Base11.zip</td>\n",
       "      <td>(1488, 2240, 3)</td>\n",
       "      <td>3</td>\n",
       "      <td>1</td>\n",
       "    </tr>\n",
       "    <tr>\n",
       "      <th>1</th>\n",
       "      <td>20051020_43808_0100_PP.tif</td>\n",
       "      <td>Base11.zip</td>\n",
       "      <td>(1488, 2240, 3)</td>\n",
       "      <td>0</td>\n",
       "      <td>0</td>\n",
       "    </tr>\n",
       "    <tr>\n",
       "      <th>2</th>\n",
       "      <td>20051020_43832_0100_PP.tif</td>\n",
       "      <td>Base11.zip</td>\n",
       "      <td>(1488, 2240, 3)</td>\n",
       "      <td>1</td>\n",
       "      <td>0</td>\n",
       "    </tr>\n",
       "    <tr>\n",
       "      <th>3</th>\n",
       "      <td>20051020_43882_0100_PP.tif</td>\n",
       "      <td>Base11.zip</td>\n",
       "      <td>(1488, 2240, 3)</td>\n",
       "      <td>2</td>\n",
       "      <td>0</td>\n",
       "    </tr>\n",
       "    <tr>\n",
       "      <th>4</th>\n",
       "      <td>20051020_43906_0100_PP.tif</td>\n",
       "      <td>Base11.zip</td>\n",
       "      <td>(1488, 2240, 3)</td>\n",
       "      <td>3</td>\n",
       "      <td>2</td>\n",
       "    </tr>\n",
       "  </tbody>\n",
       "</table>\n",
       "</div>"
      ],
      "text/plain": [
       "                     image_id    Zip File       Image Size  label  \\\n",
       "0  20051019_38557_0100_PP.tif  Base11.zip  (1488, 2240, 3)      3   \n",
       "1  20051020_43808_0100_PP.tif  Base11.zip  (1488, 2240, 3)      0   \n",
       "2  20051020_43832_0100_PP.tif  Base11.zip  (1488, 2240, 3)      1   \n",
       "3  20051020_43882_0100_PP.tif  Base11.zip  (1488, 2240, 3)      2   \n",
       "4  20051020_43906_0100_PP.tif  Base11.zip  (1488, 2240, 3)      3   \n",
       "\n",
       "   Risk of macular edema   \n",
       "0                       1  \n",
       "1                       0  \n",
       "2                       0  \n",
       "3                       0  \n",
       "4                       2  "
      ]
     },
     "execution_count": 5,
     "metadata": {},
     "output_type": "execute_result"
    }
   ],
   "source": [
    "# renaming image name column\n",
    "labels.rename(columns={'Image name': 'image_id'}, inplace=True)\n",
    "labels.head()"
   ]
  },
  {
   "cell_type": "markdown",
   "metadata": {},
   "source": [
    "Now, since we will specify the file extension while handling images, let's just get rid of the '.tif' extension on the image_id values"
   ]
  },
  {
   "cell_type": "code",
   "execution_count": 6,
   "metadata": {},
   "outputs": [
    {
     "data": {
      "text/html": [
       "<div>\n",
       "<style scoped>\n",
       "    .dataframe tbody tr th:only-of-type {\n",
       "        vertical-align: middle;\n",
       "    }\n",
       "\n",
       "    .dataframe tbody tr th {\n",
       "        vertical-align: top;\n",
       "    }\n",
       "\n",
       "    .dataframe thead th {\n",
       "        text-align: right;\n",
       "    }\n",
       "</style>\n",
       "<table border=\"1\" class=\"dataframe\">\n",
       "  <thead>\n",
       "    <tr style=\"text-align: right;\">\n",
       "      <th></th>\n",
       "      <th>image_id</th>\n",
       "      <th>Zip File</th>\n",
       "      <th>Image Size</th>\n",
       "      <th>label</th>\n",
       "      <th>Risk of macular edema</th>\n",
       "    </tr>\n",
       "  </thead>\n",
       "  <tbody>\n",
       "    <tr>\n",
       "      <th>0</th>\n",
       "      <td>20051019_38557_0100_PP</td>\n",
       "      <td>Base11.zip</td>\n",
       "      <td>(1488, 2240, 3)</td>\n",
       "      <td>3</td>\n",
       "      <td>1</td>\n",
       "    </tr>\n",
       "    <tr>\n",
       "      <th>1</th>\n",
       "      <td>20051020_43808_0100_PP</td>\n",
       "      <td>Base11.zip</td>\n",
       "      <td>(1488, 2240, 3)</td>\n",
       "      <td>0</td>\n",
       "      <td>0</td>\n",
       "    </tr>\n",
       "    <tr>\n",
       "      <th>2</th>\n",
       "      <td>20051020_43832_0100_PP</td>\n",
       "      <td>Base11.zip</td>\n",
       "      <td>(1488, 2240, 3)</td>\n",
       "      <td>1</td>\n",
       "      <td>0</td>\n",
       "    </tr>\n",
       "    <tr>\n",
       "      <th>3</th>\n",
       "      <td>20051020_43882_0100_PP</td>\n",
       "      <td>Base11.zip</td>\n",
       "      <td>(1488, 2240, 3)</td>\n",
       "      <td>2</td>\n",
       "      <td>0</td>\n",
       "    </tr>\n",
       "    <tr>\n",
       "      <th>4</th>\n",
       "      <td>20051020_43906_0100_PP</td>\n",
       "      <td>Base11.zip</td>\n",
       "      <td>(1488, 2240, 3)</td>\n",
       "      <td>3</td>\n",
       "      <td>2</td>\n",
       "    </tr>\n",
       "  </tbody>\n",
       "</table>\n",
       "</div>"
      ],
      "text/plain": [
       "                 image_id    Zip File       Image Size  label  \\\n",
       "0  20051019_38557_0100_PP  Base11.zip  (1488, 2240, 3)      3   \n",
       "1  20051020_43808_0100_PP  Base11.zip  (1488, 2240, 3)      0   \n",
       "2  20051020_43832_0100_PP  Base11.zip  (1488, 2240, 3)      1   \n",
       "3  20051020_43882_0100_PP  Base11.zip  (1488, 2240, 3)      2   \n",
       "4  20051020_43906_0100_PP  Base11.zip  (1488, 2240, 3)      3   \n",
       "\n",
       "   Risk of macular edema   \n",
       "0                       1  \n",
       "1                       0  \n",
       "2                       0  \n",
       "3                       0  \n",
       "4                       2  "
      ]
     },
     "execution_count": 6,
     "metadata": {},
     "output_type": "execute_result"
    }
   ],
   "source": [
    "labels['image_id'] = labels['image_id'].apply(lambda x: x.split('.', 1)[0]) # removing '.tif' string from image_id\n",
    "labels.head()"
   ]
  },
  {
   "cell_type": "markdown",
   "metadata": {},
   "source": [
    "Good, now it is time to check if all of our images IDs are unique in the data frame (very important for the modeling stage)"
   ]
  },
  {
   "cell_type": "code",
   "execution_count": 7,
   "metadata": {},
   "outputs": [
    {
     "data": {
      "text/plain": [
       "True"
      ]
     },
     "execution_count": 7,
     "metadata": {},
     "output_type": "execute_result"
    }
   ],
   "source": [
    "# checking the uniqueness of each image ID\n",
    "labels['image_id'].nunique() == labels.shape[0]"
   ]
  },
  {
   "cell_type": "markdown",
   "metadata": {},
   "source": [
    "Good, there is no need to drop the duplicates in the dataset since all the IDs found are unique. But anyways, let's do it to see no changes in it and for the purpose of how would it be done:"
   ]
  },
  {
   "cell_type": "code",
   "execution_count": 8,
   "metadata": {},
   "outputs": [],
   "source": [
    "labels.drop_duplicates('image_id', inplace=True)"
   ]
  },
  {
   "cell_type": "code",
   "execution_count": 9,
   "metadata": {},
   "outputs": [
    {
     "name": "stdout",
     "output_type": "stream",
     "text": [
      "<class 'pandas.core.frame.DataFrame'>\n",
      "Int64Index: 1309 entries, 0 to 1308\n",
      "Data columns (total 5 columns):\n",
      " #   Column                  Non-Null Count  Dtype \n",
      "---  ------                  --------------  ----- \n",
      " 0   image_id                1309 non-null   object\n",
      " 1   Zip File                1309 non-null   object\n",
      " 2   Image Size              1309 non-null   object\n",
      " 3   label                   1309 non-null   int64 \n",
      " 4   Risk of macular edema   1309 non-null   int64 \n",
      "dtypes: int64(2), object(3)\n",
      "memory usage: 61.4+ KB\n"
     ]
    }
   ],
   "source": [
    "labels.info()"
   ]
  },
  {
   "cell_type": "markdown",
   "metadata": {},
   "source": [
    "As expected, no changes made on the dataframe."
   ]
  },
  {
   "cell_type": "markdown",
   "metadata": {},
   "source": [
    "Now, since our dataframe is ordered by zip files (since it was read in that way: 'Base11.zip' then 'Base12.zip' and so on), we are going to perform this last transformation in it to break that sorting and shuffle the rows to keep the samples as random as possible."
   ]
  },
  {
   "cell_type": "code",
   "execution_count": 10,
   "metadata": {},
   "outputs": [],
   "source": [
    "labels = labels.sample(frac=1)"
   ]
  },
  {
   "cell_type": "code",
   "execution_count": 11,
   "metadata": {},
   "outputs": [
    {
     "data": {
      "text/html": [
       "<div>\n",
       "<style scoped>\n",
       "    .dataframe tbody tr th:only-of-type {\n",
       "        vertical-align: middle;\n",
       "    }\n",
       "\n",
       "    .dataframe tbody tr th {\n",
       "        vertical-align: top;\n",
       "    }\n",
       "\n",
       "    .dataframe thead th {\n",
       "        text-align: right;\n",
       "    }\n",
       "</style>\n",
       "<table border=\"1\" class=\"dataframe\">\n",
       "  <thead>\n",
       "    <tr style=\"text-align: right;\">\n",
       "      <th></th>\n",
       "      <th>image_id</th>\n",
       "      <th>Zip File</th>\n",
       "      <th>Image Size</th>\n",
       "      <th>label</th>\n",
       "      <th>Risk of macular edema</th>\n",
       "    </tr>\n",
       "  </thead>\n",
       "  <tbody>\n",
       "    <tr>\n",
       "      <th>814</th>\n",
       "      <td>20051110_35332_0400_PP</td>\n",
       "      <td>Base31.zip</td>\n",
       "      <td>(960, 1440, 3)</td>\n",
       "      <td>0</td>\n",
       "      <td>0</td>\n",
       "    </tr>\n",
       "    <tr>\n",
       "      <th>98</th>\n",
       "      <td>20051021_51476_0100_PP</td>\n",
       "      <td>Base11.zip</td>\n",
       "      <td>(1488, 2240, 3)</td>\n",
       "      <td>0</td>\n",
       "      <td>0</td>\n",
       "    </tr>\n",
       "    <tr>\n",
       "      <th>487</th>\n",
       "      <td>20060407_39780_0200_PP</td>\n",
       "      <td>Base21.zip</td>\n",
       "      <td>(960, 1440, 3)</td>\n",
       "      <td>0</td>\n",
       "      <td>0</td>\n",
       "    </tr>\n",
       "    <tr>\n",
       "      <th>92</th>\n",
       "      <td>20051021_40074_0100_PP</td>\n",
       "      <td>Base11.zip</td>\n",
       "      <td>(1488, 2240, 3)</td>\n",
       "      <td>3</td>\n",
       "      <td>0</td>\n",
       "    </tr>\n",
       "    <tr>\n",
       "      <th>910</th>\n",
       "      <td>20051201_38280_0400_PP</td>\n",
       "      <td>Base32.zip</td>\n",
       "      <td>(1536, 2304, 3)</td>\n",
       "      <td>0</td>\n",
       "      <td>0</td>\n",
       "    </tr>\n",
       "  </tbody>\n",
       "</table>\n",
       "</div>"
      ],
      "text/plain": [
       "                   image_id    Zip File       Image Size  label  \\\n",
       "814  20051110_35332_0400_PP  Base31.zip   (960, 1440, 3)      0   \n",
       "98   20051021_51476_0100_PP  Base11.zip  (1488, 2240, 3)      0   \n",
       "487  20060407_39780_0200_PP  Base21.zip   (960, 1440, 3)      0   \n",
       "92   20051021_40074_0100_PP  Base11.zip  (1488, 2240, 3)      3   \n",
       "910  20051201_38280_0400_PP  Base32.zip  (1536, 2304, 3)      0   \n",
       "\n",
       "     Risk of macular edema   \n",
       "814                       0  \n",
       "98                        0  \n",
       "487                       0  \n",
       "92                        0  \n",
       "910                       0  "
      ]
     },
     "execution_count": 11,
     "metadata": {},
     "output_type": "execute_result"
    }
   ],
   "source": [
    "labels.head()"
   ]
  },
  {
   "cell_type": "code",
   "execution_count": 12,
   "metadata": {},
   "outputs": [],
   "source": [
    "# saving the data frame to a csv file for later use\n",
    "#labels.to_csv(r'{}\\data_processed\\labels_modeling.csv'.format(dir_path), index=False) # saving the dataframe to path"
   ]
  },
  {
   "cell_type": "markdown",
   "metadata": {},
   "source": [
    "Now, it is time to load and pre process the image data. Our goal here is preprocess the images and the creating a training and validation dataset with folders of images divided by classes, being:\n",
    "\n",
    "* --> train_folder\n",
    "  * --> class_0\n",
    "  * --> class_1\n",
    "  * --> class_2\n",
    "  * --> class_3\n",
    "\n",
    "And then a folder called:\n",
    "\n",
    "* --> validation_folder\n",
    "  * --> class_0\n",
    "  * --> class_1\n",
    "  * --> class_2\n",
    "  * --> class_3\n",
    "  \n",
    "Let's see how we can achieve this."
   ]
  },
  {
   "cell_type": "markdown",
   "metadata": {},
   "source": [
    "In this cell we are going to create our root and save path by using the Path library, this will allow us to handle the paths in an easier way than we were doing in the previous notebooks.\n",
    "\n",
    "* ROOT_PATH: where we are going to take our image and tabular data files\n",
    "* SAVE_PATH: where we are going to save our processed files"
   ]
  },
  {
   "cell_type": "code",
   "execution_count": null,
   "metadata": {},
   "outputs": [],
   "source": [
    "ROOT_PATH = Path(\"C:/SPRINGBOARD/retinopathy-detection/data_processed/data_original/\") # take images from\n",
    "SAVE_PATH = Path(\"C:/SPRINGBOARD/retinopathy-detection/data_processed/data_model/\") # save processed images to"
   ]
  },
  {
   "cell_type": "markdown",
   "metadata": {},
   "source": [
    "To double check that we in fact have the correct access to the images and integration with the labels at the dataset, let's just plot 9 image examples and show its correcponding label."
   ]
  },
  {
   "cell_type": "code",
   "execution_count": null,
   "metadata": {},
   "outputs": [],
   "source": [
    "fig, axis = plt.subplots(3, 3, figsize=(9,9))\n",
    "c = 0\n",
    "for i in range(3):\n",
    "    for j in range(3):\n",
    "        image_id = labels['image_id'].iloc[c]\n",
    "        tif_path = ROOT_PATH/image_id\n",
    "        tif_path = tif_path.with_suffix('.tif')\n",
    "        tif = plt.imread(tif_path)\n",
    "        \n",
    "        label = labels['label'].iloc[c]\n",
    "        \n",
    "        axis[i][j].imshow(tif, cmap='gray')\n",
    "        axis[i][j].set_title(label)\n",
    "        c += 1"
   ]
  },
  {
   "cell_type": "markdown",
   "metadata": {},
   "source": [
    "Noe it is time to preprocessing and loading our data. In this section we will:\n",
    "\n",
    "1. Look on our image_id\n",
    "2. Standarize and resize images\n",
    "3. Split the train and validation set (80 - 20)\n",
    "4. Store them in the corresponding directory according to their labels"
   ]
  },
  {
   "cell_type": "code",
   "execution_count": null,
   "metadata": {},
   "outputs": [],
   "source": [
    "sums, sums_squared = 0, 0\n",
    "\n",
    "# for loop over image_id's to split the train (80%) and test set (20%)\n",
    "for c, image_id in enumerate(tqdm(labels['image_id'])):\n",
    "    image_id = labels['image_id'].iloc[c]\n",
    "    tif_path = ROOT_PATH/image_id\n",
    "    tif_path = tif_path.with_suffix('.tif')\n",
    "    tif = plt.imread(tif_path)\n",
    "    \n",
    "    # to 'help' the deep learning architecture, we will reshape the images to 244x244\n",
    "    # this will allow to decrease our computational time for the modeling\n",
    "    tif_array = cv2.resize(tif, (244, 244)).astype(np.float16) # saving it as float16 to occupy less space in memory\n",
    "    label = labels['label'].iloc[c]\n",
    "    \n",
    "    # deciding in which folder to save the image according to the label\n",
    "    "
   ]
  },
  {
   "cell_type": "markdown",
   "metadata": {},
   "source": [
    "## 4.n Summary<a id='2.7_Summary'></a>"
   ]
  },
  {
   "cell_type": "code",
   "execution_count": null,
   "metadata": {},
   "outputs": [],
   "source": []
  }
 ],
 "metadata": {
  "kernelspec": {
   "display_name": "Python 3 (ipykernel)",
   "language": "python",
   "name": "python3"
  },
  "language_info": {
   "codemirror_mode": {
    "name": "ipython",
    "version": 3
   },
   "file_extension": ".py",
   "mimetype": "text/x-python",
   "name": "python",
   "nbconvert_exporter": "python",
   "pygments_lexer": "ipython3",
   "version": "3.8.0"
  }
 },
 "nbformat": 4,
 "nbformat_minor": 2
}
