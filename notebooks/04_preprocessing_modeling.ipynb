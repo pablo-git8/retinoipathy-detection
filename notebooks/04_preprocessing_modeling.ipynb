{
 "cells": [
  {
   "cell_type": "markdown",
   "metadata": {},
   "source": [
    "# 4 Data Preprocessing and Modeling<a id='2_Data_wrangling'></a>"
   ]
  },
  {
   "cell_type": "code",
   "execution_count": 1,
   "metadata": {},
   "outputs": [],
   "source": [
    "# imports for handling lists\n",
    "import itertools\n",
    "# handling warnings\n",
    "import warnings\n",
    "# skimage imports\n",
    "from skimage import data, color, filters, morphology, graph, measure, exposure\n",
    "from skimage.filters import threshold_otsu, threshold_local, try_all_threshold, sobel, gaussian\n",
    "from skimage.transform import rotate, rescale, resize\n",
    "from skimage.feature import canny\n",
    "from skimage.io import imsave\n",
    "from skimage.util import img_as_ubyte\n",
    "# scipy for image\n",
    "from scipy import ndimage as ndi\n",
    "# import for file interaction\n",
    "import os\n",
    "import io\n",
    "from pathlib import Path\n",
    "import cv2\n",
    "# imports for reading from zip files\n",
    "import zipfile\n",
    "from PIL import Image\n",
    "# array and data frame imports\n",
    "import numpy as np\n",
    "import pandas as pd\n",
    "# helper functions\n",
    "import helpers as h\n",
    "# visualization tools\n",
    "from tqdm.notebook import tqdm\n",
    "import seaborn as sns\n",
    "import matplotlib.pyplot as plt\n",
    "%matplotlib inline"
   ]
  },
  {
   "cell_type": "markdown",
   "metadata": {},
   "source": [
    "The first step wil be to read the dataset were the labels and image's IDs are stored and check if the latest are unique. In this preprocessing and modeling stage, we will use a different library for interacting with the storage paths, so a couple of more transformations to the tabular data will be necessary, let's explore them."
   ]
  },
  {
   "cell_type": "code",
   "execution_count": 7,
   "metadata": {},
   "outputs": [],
   "source": [
    "# loading the dataset saved in 03_EDA\n",
    "dir_path = r'C:\\SPRINGBOARD\\retinopathy-detection' # path to repository\n",
    "labels = pd.read_csv(r'{}\\data_processed\\labels_sizes_aug.csv'.format(dir_path))"
   ]
  },
  {
   "cell_type": "code",
   "execution_count": 8,
   "metadata": {},
   "outputs": [
    {
     "name": "stdout",
     "output_type": "stream",
     "text": [
      "<class 'pandas.core.frame.DataFrame'>\n",
      "RangeIndex: 1309 entries, 0 to 1308\n",
      "Data columns (total 5 columns):\n",
      " #   Column                  Non-Null Count  Dtype \n",
      "---  ------                  --------------  ----- \n",
      " 0   Image name              1309 non-null   object\n",
      " 1   Zip File                1309 non-null   object\n",
      " 2   Image Size              1309 non-null   object\n",
      " 3   label                   1309 non-null   int64 \n",
      " 4   Risk of macular edema   1309 non-null   int64 \n",
      "dtypes: int64(2), object(3)\n",
      "memory usage: 51.3+ KB\n"
     ]
    }
   ],
   "source": [
    "labels.info()"
   ]
  },
  {
   "cell_type": "code",
   "execution_count": 9,
   "metadata": {},
   "outputs": [
    {
     "data": {
      "text/html": [
       "<div>\n",
       "<style scoped>\n",
       "    .dataframe tbody tr th:only-of-type {\n",
       "        vertical-align: middle;\n",
       "    }\n",
       "\n",
       "    .dataframe tbody tr th {\n",
       "        vertical-align: top;\n",
       "    }\n",
       "\n",
       "    .dataframe thead th {\n",
       "        text-align: right;\n",
       "    }\n",
       "</style>\n",
       "<table border=\"1\" class=\"dataframe\">\n",
       "  <thead>\n",
       "    <tr style=\"text-align: right;\">\n",
       "      <th></th>\n",
       "      <th>Image name</th>\n",
       "      <th>Zip File</th>\n",
       "      <th>Image Size</th>\n",
       "      <th>label</th>\n",
       "      <th>Risk of macular edema</th>\n",
       "    </tr>\n",
       "  </thead>\n",
       "  <tbody>\n",
       "    <tr>\n",
       "      <th>0</th>\n",
       "      <td>20051019_38557_0100_PP.tif</td>\n",
       "      <td>Base11.zip</td>\n",
       "      <td>(1488, 2240, 3)</td>\n",
       "      <td>3</td>\n",
       "      <td>1</td>\n",
       "    </tr>\n",
       "    <tr>\n",
       "      <th>1</th>\n",
       "      <td>20051020_43808_0100_PP.tif</td>\n",
       "      <td>Base11.zip</td>\n",
       "      <td>(1488, 2240, 3)</td>\n",
       "      <td>0</td>\n",
       "      <td>0</td>\n",
       "    </tr>\n",
       "    <tr>\n",
       "      <th>2</th>\n",
       "      <td>20051020_43832_0100_PP.tif</td>\n",
       "      <td>Base11.zip</td>\n",
       "      <td>(1488, 2240, 3)</td>\n",
       "      <td>1</td>\n",
       "      <td>0</td>\n",
       "    </tr>\n",
       "    <tr>\n",
       "      <th>3</th>\n",
       "      <td>20051020_43882_0100_PP.tif</td>\n",
       "      <td>Base11.zip</td>\n",
       "      <td>(1488, 2240, 3)</td>\n",
       "      <td>2</td>\n",
       "      <td>0</td>\n",
       "    </tr>\n",
       "    <tr>\n",
       "      <th>4</th>\n",
       "      <td>20051020_43906_0100_PP.tif</td>\n",
       "      <td>Base11.zip</td>\n",
       "      <td>(1488, 2240, 3)</td>\n",
       "      <td>3</td>\n",
       "      <td>2</td>\n",
       "    </tr>\n",
       "  </tbody>\n",
       "</table>\n",
       "</div>"
      ],
      "text/plain": [
       "                   Image name    Zip File       Image Size  label  \\\n",
       "0  20051019_38557_0100_PP.tif  Base11.zip  (1488, 2240, 3)      3   \n",
       "1  20051020_43808_0100_PP.tif  Base11.zip  (1488, 2240, 3)      0   \n",
       "2  20051020_43832_0100_PP.tif  Base11.zip  (1488, 2240, 3)      1   \n",
       "3  20051020_43882_0100_PP.tif  Base11.zip  (1488, 2240, 3)      2   \n",
       "4  20051020_43906_0100_PP.tif  Base11.zip  (1488, 2240, 3)      3   \n",
       "\n",
       "   Risk of macular edema   \n",
       "0                       1  \n",
       "1                       0  \n",
       "2                       0  \n",
       "3                       0  \n",
       "4                       2  "
      ]
     },
     "execution_count": 9,
     "metadata": {},
     "output_type": "execute_result"
    }
   ],
   "source": [
    "labels.head()"
   ]
  },
  {
   "cell_type": "markdown",
   "metadata": {},
   "source": [
    "The first transformation we will apply to this data frame will be changing the name of the 'Image name' colum for 'image_id'"
   ]
  },
  {
   "cell_type": "code",
   "execution_count": 10,
   "metadata": {},
   "outputs": [
    {
     "data": {
      "text/html": [
       "<div>\n",
       "<style scoped>\n",
       "    .dataframe tbody tr th:only-of-type {\n",
       "        vertical-align: middle;\n",
       "    }\n",
       "\n",
       "    .dataframe tbody tr th {\n",
       "        vertical-align: top;\n",
       "    }\n",
       "\n",
       "    .dataframe thead th {\n",
       "        text-align: right;\n",
       "    }\n",
       "</style>\n",
       "<table border=\"1\" class=\"dataframe\">\n",
       "  <thead>\n",
       "    <tr style=\"text-align: right;\">\n",
       "      <th></th>\n",
       "      <th>image_id</th>\n",
       "      <th>Zip File</th>\n",
       "      <th>Image Size</th>\n",
       "      <th>label</th>\n",
       "      <th>Risk of macular edema</th>\n",
       "    </tr>\n",
       "  </thead>\n",
       "  <tbody>\n",
       "    <tr>\n",
       "      <th>0</th>\n",
       "      <td>20051019_38557_0100_PP.tif</td>\n",
       "      <td>Base11.zip</td>\n",
       "      <td>(1488, 2240, 3)</td>\n",
       "      <td>3</td>\n",
       "      <td>1</td>\n",
       "    </tr>\n",
       "    <tr>\n",
       "      <th>1</th>\n",
       "      <td>20051020_43808_0100_PP.tif</td>\n",
       "      <td>Base11.zip</td>\n",
       "      <td>(1488, 2240, 3)</td>\n",
       "      <td>0</td>\n",
       "      <td>0</td>\n",
       "    </tr>\n",
       "    <tr>\n",
       "      <th>2</th>\n",
       "      <td>20051020_43832_0100_PP.tif</td>\n",
       "      <td>Base11.zip</td>\n",
       "      <td>(1488, 2240, 3)</td>\n",
       "      <td>1</td>\n",
       "      <td>0</td>\n",
       "    </tr>\n",
       "    <tr>\n",
       "      <th>3</th>\n",
       "      <td>20051020_43882_0100_PP.tif</td>\n",
       "      <td>Base11.zip</td>\n",
       "      <td>(1488, 2240, 3)</td>\n",
       "      <td>2</td>\n",
       "      <td>0</td>\n",
       "    </tr>\n",
       "    <tr>\n",
       "      <th>4</th>\n",
       "      <td>20051020_43906_0100_PP.tif</td>\n",
       "      <td>Base11.zip</td>\n",
       "      <td>(1488, 2240, 3)</td>\n",
       "      <td>3</td>\n",
       "      <td>2</td>\n",
       "    </tr>\n",
       "  </tbody>\n",
       "</table>\n",
       "</div>"
      ],
      "text/plain": [
       "                     image_id    Zip File       Image Size  label  \\\n",
       "0  20051019_38557_0100_PP.tif  Base11.zip  (1488, 2240, 3)      3   \n",
       "1  20051020_43808_0100_PP.tif  Base11.zip  (1488, 2240, 3)      0   \n",
       "2  20051020_43832_0100_PP.tif  Base11.zip  (1488, 2240, 3)      1   \n",
       "3  20051020_43882_0100_PP.tif  Base11.zip  (1488, 2240, 3)      2   \n",
       "4  20051020_43906_0100_PP.tif  Base11.zip  (1488, 2240, 3)      3   \n",
       "\n",
       "   Risk of macular edema   \n",
       "0                       1  \n",
       "1                       0  \n",
       "2                       0  \n",
       "3                       0  \n",
       "4                       2  "
      ]
     },
     "execution_count": 10,
     "metadata": {},
     "output_type": "execute_result"
    }
   ],
   "source": [
    "# renaming image name column\n",
    "labels.rename(columns={'Image name': 'image_id'}, inplace=True)\n",
    "labels.head()"
   ]
  },
  {
   "cell_type": "markdown",
   "metadata": {},
   "source": [
    "Now, since we will specify the file extension while handling images, let's just get rid of the '.tif' extension on the image_id values"
   ]
  },
  {
   "cell_type": "code",
   "execution_count": 13,
   "metadata": {},
   "outputs": [
    {
     "data": {
      "text/html": [
       "<div>\n",
       "<style scoped>\n",
       "    .dataframe tbody tr th:only-of-type {\n",
       "        vertical-align: middle;\n",
       "    }\n",
       "\n",
       "    .dataframe tbody tr th {\n",
       "        vertical-align: top;\n",
       "    }\n",
       "\n",
       "    .dataframe thead th {\n",
       "        text-align: right;\n",
       "    }\n",
       "</style>\n",
       "<table border=\"1\" class=\"dataframe\">\n",
       "  <thead>\n",
       "    <tr style=\"text-align: right;\">\n",
       "      <th></th>\n",
       "      <th>image_id</th>\n",
       "      <th>Zip File</th>\n",
       "      <th>Image Size</th>\n",
       "      <th>label</th>\n",
       "      <th>Risk of macular edema</th>\n",
       "    </tr>\n",
       "  </thead>\n",
       "  <tbody>\n",
       "    <tr>\n",
       "      <th>0</th>\n",
       "      <td>20051019_38557_0100_PP</td>\n",
       "      <td>Base11.zip</td>\n",
       "      <td>(1488, 2240, 3)</td>\n",
       "      <td>3</td>\n",
       "      <td>1</td>\n",
       "    </tr>\n",
       "    <tr>\n",
       "      <th>1</th>\n",
       "      <td>20051020_43808_0100_PP</td>\n",
       "      <td>Base11.zip</td>\n",
       "      <td>(1488, 2240, 3)</td>\n",
       "      <td>0</td>\n",
       "      <td>0</td>\n",
       "    </tr>\n",
       "    <tr>\n",
       "      <th>2</th>\n",
       "      <td>20051020_43832_0100_PP</td>\n",
       "      <td>Base11.zip</td>\n",
       "      <td>(1488, 2240, 3)</td>\n",
       "      <td>1</td>\n",
       "      <td>0</td>\n",
       "    </tr>\n",
       "    <tr>\n",
       "      <th>3</th>\n",
       "      <td>20051020_43882_0100_PP</td>\n",
       "      <td>Base11.zip</td>\n",
       "      <td>(1488, 2240, 3)</td>\n",
       "      <td>2</td>\n",
       "      <td>0</td>\n",
       "    </tr>\n",
       "    <tr>\n",
       "      <th>4</th>\n",
       "      <td>20051020_43906_0100_PP</td>\n",
       "      <td>Base11.zip</td>\n",
       "      <td>(1488, 2240, 3)</td>\n",
       "      <td>3</td>\n",
       "      <td>2</td>\n",
       "    </tr>\n",
       "  </tbody>\n",
       "</table>\n",
       "</div>"
      ],
      "text/plain": [
       "                 image_id    Zip File       Image Size  label  \\\n",
       "0  20051019_38557_0100_PP  Base11.zip  (1488, 2240, 3)      3   \n",
       "1  20051020_43808_0100_PP  Base11.zip  (1488, 2240, 3)      0   \n",
       "2  20051020_43832_0100_PP  Base11.zip  (1488, 2240, 3)      1   \n",
       "3  20051020_43882_0100_PP  Base11.zip  (1488, 2240, 3)      2   \n",
       "4  20051020_43906_0100_PP  Base11.zip  (1488, 2240, 3)      3   \n",
       "\n",
       "   Risk of macular edema   \n",
       "0                       1  \n",
       "1                       0  \n",
       "2                       0  \n",
       "3                       0  \n",
       "4                       2  "
      ]
     },
     "execution_count": 13,
     "metadata": {},
     "output_type": "execute_result"
    }
   ],
   "source": [
    "labels['image_id'] = labels['image_id'].apply(lambda x: x.split('.', 1)[0]) # removing '.tif' string from image_id\n",
    "labels.head()"
   ]
  },
  {
   "cell_type": "markdown",
   "metadata": {},
   "source": [
    "Good, now it is time to check if all of our images IDs are unique in the data frame (very important for the modeling stage)"
   ]
  },
  {
   "cell_type": "code",
   "execution_count": 15,
   "metadata": {},
   "outputs": [
    {
     "data": {
      "text/plain": [
       "True"
      ]
     },
     "execution_count": 15,
     "metadata": {},
     "output_type": "execute_result"
    }
   ],
   "source": [
    "# checking the uniqueness of each image ID\n",
    "labels['image_id'].nunique() == labels.shape[0]"
   ]
  },
  {
   "cell_type": "markdown",
   "metadata": {},
   "source": [
    "Good, there is no need to drop the duplicates in the dataset since all the IDs found are unique. But anyways, let's do it to see no changes in it and for the purpose of how would it be done:"
   ]
  },
  {
   "cell_type": "code",
   "execution_count": 16,
   "metadata": {},
   "outputs": [],
   "source": [
    "labels.drop_duplicates('image_id', inplace=True)"
   ]
  },
  {
   "cell_type": "code",
   "execution_count": 17,
   "metadata": {},
   "outputs": [
    {
     "name": "stdout",
     "output_type": "stream",
     "text": [
      "<class 'pandas.core.frame.DataFrame'>\n",
      "Int64Index: 1309 entries, 0 to 1308\n",
      "Data columns (total 5 columns):\n",
      " #   Column                  Non-Null Count  Dtype \n",
      "---  ------                  --------------  ----- \n",
      " 0   image_id                1309 non-null   object\n",
      " 1   Zip File                1309 non-null   object\n",
      " 2   Image Size              1309 non-null   object\n",
      " 3   label                   1309 non-null   int64 \n",
      " 4   Risk of macular edema   1309 non-null   int64 \n",
      "dtypes: int64(2), object(3)\n",
      "memory usage: 61.4+ KB\n"
     ]
    }
   ],
   "source": [
    "labels.info()"
   ]
  },
  {
   "cell_type": "markdown",
   "metadata": {},
   "source": [
    "As expected, no changes made on the dataframe. Let's save this data frame in a csv file for later use in the modeling."
   ]
  },
  {
   "cell_type": "code",
   "execution_count": null,
   "metadata": {},
   "outputs": [],
   "source": []
  },
  {
   "cell_type": "markdown",
   "metadata": {},
   "source": [
    "Now, it is time to load and pre process the image data. Our goal here is preprocess the images and the creating a training and validation dataset with folders of images divided by classes, being:\n",
    "\n",
    "* --> train_folder\n",
    "  * --> class_0\n",
    "  * --> class_1\n",
    "  * --> class_2\n",
    "  * --> class_3\n",
    "\n",
    "And then a folder called:\n",
    "\n",
    "* --> validation_folder\n",
    "  * --> class_0\n",
    "  * --> class_1\n",
    "  * --> class_2\n",
    "  * --> class_3\n",
    "  \n",
    "Let's see how we can achieve this"
   ]
  },
  {
   "cell_type": "code",
   "execution_count": null,
   "metadata": {},
   "outputs": [],
   "source": []
  },
  {
   "cell_type": "code",
   "execution_count": 12,
   "metadata": {},
   "outputs": [],
   "source": [
    "sums, sums_squared = 0, 0\n",
    "\n",
    "for c, image_id in enumerate(tqdm(labels['Image name'])):\n",
    "    image_id = labels['Image name'].iloc[c]\n",
    "    img_path = dir_path + '\\data_processed\\data_original\\{}'.format(c)\n",
    "    tif = plt.imread(img_path) / 255\n",
    "    tif_array = cv2.rezise(dcm, 224, 224).astype(np.float64)\n",
    "    label = labels['label'].iloc[c]\n",
    "    train_or_val = 'train' if c < 1000 else 'val'\n",
    "    save_path = '{}\\data_processed\\train_val_data{}\\{}'.format(dir_path, train_or_val, str(label))"
   ]
  },
  {
   "cell_type": "code",
   "execution_count": null,
   "metadata": {},
   "outputs": [],
   "source": []
  },
  {
   "cell_type": "markdown",
   "metadata": {},
   "source": [
    "## 4.n Summary<a id='2.7_Summary'></a>"
   ]
  },
  {
   "cell_type": "code",
   "execution_count": null,
   "metadata": {},
   "outputs": [],
   "source": []
  }
 ],
 "metadata": {
  "kernelspec": {
   "display_name": "Python 3 (ipykernel)",
   "language": "python",
   "name": "python3"
  },
  "language_info": {
   "codemirror_mode": {
    "name": "ipython",
    "version": 3
   },
   "file_extension": ".py",
   "mimetype": "text/x-python",
   "name": "python",
   "nbconvert_exporter": "python",
   "pygments_lexer": "ipython3",
   "version": "3.8.0"
  }
 },
 "nbformat": 4,
 "nbformat_minor": 2
}
