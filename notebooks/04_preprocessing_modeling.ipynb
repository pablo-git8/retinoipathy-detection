{
 "cells": [
  {
   "cell_type": "markdown",
   "metadata": {},
   "source": [
    "# 4 Data Preprocessing and Modeling<a id='2_Data_wrangling'></a>"
   ]
  },
  {
   "cell_type": "code",
   "execution_count": 24,
   "metadata": {},
   "outputs": [],
   "source": [
    "# imports for handling lists\n",
    "import itertools\n",
    "# handling warnings\n",
    "import warnings\n",
    "# skimage imports\n",
    "from skimage import data, color, filters, morphology, graph, measure, exposure\n",
    "from skimage.filters import threshold_otsu, threshold_local, try_all_threshold, sobel, gaussian\n",
    "from skimage.transform import rotate, rescale, resize\n",
    "from skimage.feature import canny\n",
    "from skimage.io import imsave\n",
    "from skimage.util import img_as_ubyte\n",
    "# scipy for image\n",
    "from scipy import ndimage as ndi\n",
    "# import for file interaction\n",
    "import os\n",
    "import io\n",
    "# imports for reading from zip files\n",
    "import zipfile\n",
    "from PIL import Image\n",
    "# array and data frame imports\n",
    "import numpy as np\n",
    "import pandas as pd\n",
    "# helper functions\n",
    "import helpers as h\n",
    "# visualization tools\n",
    "import seaborn as sns\n",
    "import matplotlib.pyplot as plt\n",
    "%matplotlib inline"
   ]
  },
  {
   "cell_type": "markdown",
   "metadata": {},
   "source": [
    "## 4.n Summary<a id='2.7_Summary'></a>"
   ]
  },
  {
   "cell_type": "code",
   "execution_count": null,
   "metadata": {},
   "outputs": [],
   "source": []
  }
 ],
 "metadata": {
  "kernelspec": {
   "display_name": "Python 3 (ipykernel)",
   "language": "python",
   "name": "python3"
  },
  "language_info": {
   "codemirror_mode": {
    "name": "ipython",
    "version": 3
   },
   "file_extension": ".py",
   "mimetype": "text/x-python",
   "name": "python",
   "nbconvert_exporter": "python",
   "pygments_lexer": "ipython3",
   "version": "3.8.0"
  }
 },
 "nbformat": 4,
 "nbformat_minor": 2
}
