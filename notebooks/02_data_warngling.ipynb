{
 "cells": [
  {
   "cell_type": "markdown",
   "metadata": {},
   "source": [
    "# 2 Data Wrangling<a id='2_Data_wrangling'></a>"
   ]
  },
  {
   "cell_type": "markdown",
   "metadata": {},
   "source": [
    "## 2.1 Contents<a id='2.1_Contents'></a>\n",
    "* [2 Data Wrangling](#2_Data_wrangling)\n",
    "  * [2.1 Contents](#2.1_Contents)\n",
    "  * [2.2 Introduction](#2.2_Introduction)\n",
    "    * [2.2.1 Recap Of Retinopathy Detection Problem](#2.2.1_recap_reti)\n",
    "    * [2.2.2 Retinopathy Dataset](#2.2.2_reti_dataset)\n",
    "    * [2.2.3 Introduction To Notebook](#2.2.3_Introduction_To_Notebook)\n",
    "  * [2.3 Imports](#2.3_Imports)\n",
    "  * [2.4 Objectives](#2.4_Objectives)\n",
    "  * [2.5 Load The Messidor Data](#2.5_Load_The_messidor_Data)\n",
    "     * [2.5.1 Handling tabular data for labels](#2.5.1_htb_d)\n",
    "     * [2.5.2 Handling image shapes for analysis](#2.5.2_his_a)\n",
    "     * [2.5.3 String processing for tabular data](#2.5.3_spro_t)\n",
    "     * [2.5.4 Joining image sizes and labels](#2.5.4_joims_l)\n",
    "  * [2.6 Reading Image Data](#2.6_rimd_l)\n",
    "     * [2.6.1 Dealing with image sizes](#2.6.1_dims_l)\n",
    "     * [2.6.2 Saving data into local directory for EDA](#2.6.2_sdim_eda)\n",
    "  * [2.7 Summary](#2.7_Summary)"
   ]
  },
  {
   "cell_type": "markdown",
   "metadata": {},
   "source": [
    "## 2.2 Introduction<a id='2.2_Introduction'></a>"
   ]
  },
  {
   "cell_type": "markdown",
   "metadata": {},
   "source": [
    "The **retina** is part internal of the nerve tissue of the eye that lines the back two-thirds of the organ. Its central region is in charge of the central vision and the outer layer is in charge of the peripheral vision. All these parts together as one, are responsible for receiving visual images, and it is the first step in decoding the signal. We can think of it as a sensor.\n",
    "\n",
    "<p style=\"text-align:center;\"><img src=\"https://www.doctordiegoruizcasas.com/ext/r/800x592-204/el_ojo_humano.jpg\" alt=\"Drawing\" style=\"width: 500px;\"/></p>\n",
    "\n",
    "**Retinopathy** term is used for diseases in general that are localized at the retina. There are several types of retinopathies and most of them affect the small retinal blood vessels and can be diagnosed by using a medical device called ophthalmoscope. \n",
    "\n",
    "These diseases can be caused for many reasons, including congenital, hypertension, or any other pathology that can affect small blood vessels. However, the most common type of retinopathy is the one caused by diabetic complications called (non-surprisingly) **Diabetic Retinopathy**.\n",
    "\n",
    "As subclasses of the disease, we can find **proliferative** and **nonproliferative**. This term refers to the growth of abnormal blood vessels in the retina, being the second one the most dangerous since it can impact the vision of the patient (including blindness in severe cases). Nonproliferative can also derive in proliferative, therefore, regular eye examinations and treatment (when necessary) are important for controlling this disease.\n",
    "\n",
    "**Diabetes** has reached impressive numbers by 2017, [having almost 425 million people facing the disease and estimating almost 629 million by 2045](https://www.nature.com/articles/s41433-019-0566-0). According to this [article](https://www.asrs.org/patients/retinal-diseases/3/diabetic-retinopathy) from the [American Society of Retina Specialists](https://www.asrs.org/), half of the patients with diabetes and is the number one cause of irreversible blindness in working-age people, but there is substantial scientific evidence that early detection and timely treatment can prevent vision loss.\n",
    "\n",
    "In recent years, there have been programs based on the **analysis of fundus photographs** by specially trained ophthalmologists (mostly remote graders). However, although great eyes are behind the analysis, the diagnostic accuracy achieved may not be optimal, and scaling and [sustaining such programs has been found to be challenging](https://www.ncbi.nlm.nih.gov/pmc/articles/PMC5733521/). Additionally, the costs of those type of services could be quite high even for developed countries.\n",
    "\n",
    "**Deep learning**, a machine learning (ML) technique, [has shown promising diagnostic performance in several applications](https://chemport.cas.org/cgi-bin/sdcgi?APP=ftslink&action=reflink&origin=npg&version=1.0&coi=1%3ACAS%3A528%3ADC%2BC2MXht1WlurzP&md5=0114b2ed20ab1840e1c58bd5ab4170b8) such as in image recognition and computer vision tasks. These technologies have been widely adopted in many domains including healthcare and medicine. For medical imaging analysis in general, it has [achieved robust results in various medical specialities](https://pubs.rsna.org/doi/10.1148/radiol.2017162326) such as radiology; for ophthalmology in particular, deep learning (DL) continues the tradition of [autonomous and assisted analysis of retinal photographs](https://www.nature.com/articles/s41433-019-0566-0). Such **artificial intelligence (AI) systems** have been [demonstrated to lower cost, improve diagnostic accuracy, and increase patient access to Diabetic Retinopathy screening](https://www.nature.com/articles/s41433-019-0566-0). Recent works on DL in ophthalmology showcase its potential to at least partially replace human graders, while providing a similar level of accuracy. Nonetheless, being more adopted as a medical-aid systems than a replacement itself.\n"
   ]
  },
  {
   "cell_type": "markdown",
   "metadata": {},
   "source": [
    "### 2.2.1 Recap Of Retinopathy Detection Problem<a id='2.2.1_recap_reti'></a>"
   ]
  },
  {
   "cell_type": "markdown",
   "metadata": {},
   "source": [
    "As we can see in the introduction, Diabetes is a global eye health issue. Given the rising in diabetes prevalence, old population, retinopathy screening can pose a significant challenge even in developed countries. Int he past recent years, artificial intelligence using machine learning and deep learning have been adopted by the scientific community with the purpose of developing automated Diabetic Retinopathy detection algorithms. This project aims to implement one of these technologies using a Convolutional Neural Network using the above explained dataset and technical methodologies. Although many academics have published robust diagnostic performance of the AI algorithms for Diabetic Retinopathy screening, future research is required to address several challenges, for example and clinical deployment model to expedite the translation of these novel technologies into the healthcare setting (_text adapted from this [article](https://www.nature.com/articles/s41433-019-0566-0)_)."
   ]
  },
  {
   "cell_type": "markdown",
   "metadata": {},
   "source": [
    "### 2.2.2 Retinopathy Dataset<a id='2.2.2_reti_dataset'></a>"
   ]
  },
  {
   "cell_type": "markdown",
   "metadata": {},
   "source": [
    "The dataset consists of 1200 eye fundus color numerical images of the posterior pole. The images and the following information were taken from of the [Messidor database](https://www.adcis.net/en/third-party/messidor/). \n",
    "\n",
    "These images were acquired by 3 ophthalmologic departments using a color video 3CCD camera mounted on a Topcon TRC NW6 non-mydriatic retinography with a 45-degree field of view. Images were captured using 8 bits per color plane at (1440*960), (2240*1488) or (2304*1536) pixels.\n",
    "\n",
    "800 images were acquired with pupil dilation (one drop of Tropicamide at 0.5%) and 400 without dilation.\n",
    "\n",
    "The 1200 images are packaged in 3 sets, one per ophthalmologic department. Each set is divided into 4 zipped subsets containing 100 images in TIFF format and an Excel file with medical diagnoses for each image that will be used for the label identification.\n",
    "\n",
    "Medical diagnoses\n",
    "Two diagnoses have been provided by the medical experts for each image:\n",
    "\n",
    "1. Retinopathy grade\n",
    "2. Risk of macular edema\n",
    "\n",
    "**Retinopathy grade**\n",
    "\n",
    "* 0 (Normal): (μA = 0) AND (H = 0)\n",
    "* 1: (0 < μA <= 5) AND (H = 0)\n",
    "* 2: ((5 < μA < 15) OR (0 < H < 5)) AND (NV = 0)\n",
    "* 3: (μA >= 15) OR (H >=5) OR (NV = 1)\n",
    "\n",
    "Where:\n",
    "\n",
    "* μA: number of microaneurysms\n",
    "* H: number of hemorrhages\n",
    "* NV = 1: neovascularization\n",
    "* NV = 0: no neovascularization\n",
    "\n",
    "**Risk of macular edema**\n",
    "Hard exudates have been used to grade the risk of macular edema.\n",
    "\n",
    "* 0 (No risk): No visible hard exudate\n",
    "* 1: Shortest distance between macula and hard exudates > one papilla diameter\n",
    "* 2: Shortest distance between macula and hard exudates <= one papilla diameter\n",
    "\n",
    "All images contained in the database were used for making actual clinical diagnoses. To ensure the upmost protection of patient privacy, information that might allow us to identify a patient has been discarded. To minimize any further risk of breach of privacy, the use of this database is restricted to individuals or organizations that obtained the database directly from this [website](https://www.adcis.net/en/third-party/messidor/), which was exactly the one used for downloading the .zip files and stored locally on a Windows computer.\n",
    "\n",
    "Links\n",
    "Other databases with retinal images are available on the following sites:\n",
    "\n",
    "Stare project: Retinal color images and results of automatic location of the optic nerve.\n",
    "[Drive project:](https://grand-challenge.org/api/) Retinal color images and results of automatic segmentation of blood vessels.\n",
    "\n",
    "Insight on how to use the database and the files in it were taken from this article:\n",
    "\n",
    "Decencière et al.. Feedback on a publicly distributed database: the Messidor database.\n",
    "Image Analysis & Stereology, v. 33, n. 3, p. 231-234, aug. 2014. ISSN 1854-5165  available [here](http://www.ias-iss.org/ojs/IAS/article/view/1155) or [here](http://dx.doi.org/10.5566/ias.1155)."
   ]
  },
  {
   "cell_type": "markdown",
   "metadata": {},
   "source": [
    "### 2.2.3 Introduction To Notebook<a id='2.2.3_Introduction_To_Notebook'></a>"
   ]
  },
  {
   "cell_type": "markdown",
   "metadata": {},
   "source": [
    "In this notebook, we will be doing step 2 of the Data Science Method (data wrangling). This step focuses on collecting the data, importing it in a suitable way, organizing it, applying basic transformations to it and making sure it's well defined. Paying attention to these tasks will pay off greatly later in our future notebooks.\n",
    "\n",
    "Some data cleaning will be done at this stage as well so we can understand it better and compute a new and cleaned data set to input our third step (Exploratory Data Analysis). \n",
    "\n",
    "At the end of this notebook, we will be selecting some useful features from the tabular data to use based on the statistical analysis made on them and deliver a proper image database for further analysis and, eventually, use it as model inputs."
   ]
  },
  {
   "cell_type": "markdown",
   "metadata": {},
   "source": [
    "## 2.3 Imports<a id='2.3_Imports'></a>"
   ]
  },
  {
   "cell_type": "code",
   "execution_count": 2,
   "metadata": {},
   "outputs": [],
   "source": [
    "# warnings handling\n",
    "import warnings\n",
    "# skimage imports\n",
    "from skimage import data, color, filters, morphology, graph, measure, exposure\n",
    "from skimage.filters import threshold_otsu, threshold_local, try_all_threshold, sobel, gaussian\n",
    "from skimage.transform import rotate, rescale, resize\n",
    "from skimage.feature import canny\n",
    "from skimage.io import imsave\n",
    "# scipy for image\n",
    "from scipy import ndimage as ndi\n",
    "# imports for file interaction\n",
    "import os\n",
    "import io\n",
    "# imports for reading from zip files\n",
    "import zipfile\n",
    "from PIL import Image\n",
    "# array and data frame imports\n",
    "import numpy as np\n",
    "import pandas as pd\n",
    "# helper functions\n",
    "import helpers as h\n",
    "# visualization tools\n",
    "import matplotlib.pyplot as plt\n",
    "%matplotlib inline"
   ]
  },
  {
   "cell_type": "markdown",
   "metadata": {},
   "source": [
    "## 2.4 Objectives<a id='2.4_Objectives'></a>"
   ]
  },
  {
   "cell_type": "markdown",
   "metadata": {},
   "source": [
    "The following three objectives are considered as the criteria for success in this project:\n",
    "\n",
    "* [x] Implementing a deep learning algorithm that can successfully detect at least 80% of Diabetic Retinopathy classes (grades).\n",
    "* [x] Implementing a deep learning algorithm that can successfully detect at least 80% of risk of macular edema.\n",
    "* [x] Additional to the classifier, implementing an automated pipeline to deploy the model in a productive setting."
   ]
  },
  {
   "cell_type": "markdown",
   "metadata": {},
   "source": [
    "## 2.5 Load The Messidor Data<a id='2.5_Load_The_messidor_Data'></a>"
   ]
  },
  {
   "cell_type": "markdown",
   "metadata": {},
   "source": [
    "We'll start by identifying and reading the zip files in the PATH location where the images and xls label files are stored."
   ]
  },
  {
   "cell_type": "code",
   "execution_count": 3,
   "metadata": {},
   "outputs": [
    {
     "data": {
      "text/plain": [
       "['Base11.zip',\n",
       " 'Base12.zip',\n",
       " 'Base13.zip',\n",
       " 'Base14.zip',\n",
       " 'Base21.zip',\n",
       " 'Base22.zip',\n",
       " 'Base23.zip',\n",
       " 'Base24.zip',\n",
       " 'Base31.zip',\n",
       " 'Base32.zip',\n",
       " 'Base33.zip',\n",
       " 'Base34.zip']"
      ]
     },
     "metadata": {},
     "output_type": "display_data"
    }
   ],
   "source": [
    "# folder path\n",
    "dir_path = r'C:\\SPRINGBOARD\\retinopathy-detection'\n",
    "# list file and directories\n",
    "file_names = os.listdir(dir_path+'\\data')\n",
    "display(file_names)"
   ]
  },
  {
   "cell_type": "markdown",
   "metadata": {},
   "source": [
    "### 2.5.1 Handling tabular data for labels <a id='2.5.1_htb_d'></a>"
   ]
  },
  {
   "cell_type": "markdown",
   "metadata": {},
   "source": [
    "In this section, we will be concatenating all excel files for gathering all images files with their specific label."
   ]
  },
  {
   "cell_type": "code",
   "execution_count": 4,
   "metadata": {},
   "outputs": [
    {
     "name": "stdout",
     "output_type": "stream",
     "text": [
      "Excel File 1 ready!\n",
      "Excel File 2 ready!\n",
      "Excel File 3 ready!\n",
      "Excel File 4 ready!\n",
      "Excel File 5 ready!\n",
      "Excel File 6 ready!\n",
      "Excel File 7 ready!\n",
      "Excel File 8 ready!\n",
      "Excel File 9 ready!\n",
      "Excel File 10 ready!\n",
      "Excel File 11 ready!\n",
      "Excel File 12 ready!\n"
     ]
    }
   ],
   "source": [
    "warnings.simplefilter(action='ignore', category=FutureWarning)\n",
    "xls_count = 1\n",
    "df_total = pd.DataFrame()\n",
    "\n",
    "for file in file_names:\n",
    "    # reading the zip files\n",
    "    if '.zip' in file:\n",
    "        # reading internal files\n",
    "        zip_file = zipfile.ZipFile('{}\\data\\{}'.format(dir_path, file)) \n",
    "        for int_file in zip_file.namelist():\n",
    "            # reading xls files for labels\n",
    "            if '.xls' in int_file:\n",
    "                df = pd.read_excel(io.BytesIO(h.read_zip(r'{}\\data\\{}'.format(dir_path, file), int_file))) # loading excel label files\n",
    "                df_total = df_total.append(df, ignore_index=True) # appending all xls files\n",
    "                df_total.drop(columns='Ophthalmologic department', inplace=True)\n",
    "                print('Excel File {} ready!'.format(xls_count))\n",
    "                xls_count += 1\n",
    "df_total.to_csv(r'{}\\data_processed\\labels.csv'.format(dir_path), index=False) # saving the dataframe to path"
   ]
  },
  {
   "cell_type": "markdown",
   "metadata": {},
   "source": [
    "Now that we have all .xls files read and concatenated, let's explore the type of variables we have in the data frame and other relevant information."
   ]
  },
  {
   "cell_type": "code",
   "execution_count": 5,
   "metadata": {},
   "outputs": [
    {
     "data": {
      "text/html": [
       "<div>\n",
       "<style scoped>\n",
       "    .dataframe tbody tr th:only-of-type {\n",
       "        vertical-align: middle;\n",
       "    }\n",
       "\n",
       "    .dataframe tbody tr th {\n",
       "        vertical-align: top;\n",
       "    }\n",
       "\n",
       "    .dataframe thead th {\n",
       "        text-align: right;\n",
       "    }\n",
       "</style>\n",
       "<table border=\"1\" class=\"dataframe\">\n",
       "  <thead>\n",
       "    <tr style=\"text-align: right;\">\n",
       "      <th></th>\n",
       "      <th>Image name</th>\n",
       "      <th>Retinopathy grade</th>\n",
       "      <th>Risk of macular edema</th>\n",
       "    </tr>\n",
       "  </thead>\n",
       "  <tbody>\n",
       "    <tr>\n",
       "      <th>0</th>\n",
       "      <td>20051019_38557_0100_PP.tif</td>\n",
       "      <td>3</td>\n",
       "      <td>1</td>\n",
       "    </tr>\n",
       "    <tr>\n",
       "      <th>1</th>\n",
       "      <td>20051020_43808_0100_PP.tif</td>\n",
       "      <td>0</td>\n",
       "      <td>0</td>\n",
       "    </tr>\n",
       "    <tr>\n",
       "      <th>2</th>\n",
       "      <td>20051020_43832_0100_PP.tif</td>\n",
       "      <td>1</td>\n",
       "      <td>0</td>\n",
       "    </tr>\n",
       "    <tr>\n",
       "      <th>3</th>\n",
       "      <td>20051020_43882_0100_PP.tif</td>\n",
       "      <td>2</td>\n",
       "      <td>0</td>\n",
       "    </tr>\n",
       "    <tr>\n",
       "      <th>4</th>\n",
       "      <td>20051020_43906_0100_PP.tif</td>\n",
       "      <td>3</td>\n",
       "      <td>2</td>\n",
       "    </tr>\n",
       "  </tbody>\n",
       "</table>\n",
       "</div>"
      ],
      "text/plain": [
       "                   Image name  Retinopathy grade  Risk of macular edema \n",
       "0  20051019_38557_0100_PP.tif                  3                       1\n",
       "1  20051020_43808_0100_PP.tif                  0                       0\n",
       "2  20051020_43832_0100_PP.tif                  1                       0\n",
       "3  20051020_43882_0100_PP.tif                  2                       0\n",
       "4  20051020_43906_0100_PP.tif                  3                       2"
      ]
     },
     "execution_count": 5,
     "metadata": {},
     "output_type": "execute_result"
    }
   ],
   "source": [
    "df_total.head()"
   ]
  },
  {
   "cell_type": "code",
   "execution_count": 6,
   "metadata": {},
   "outputs": [
    {
     "name": "stdout",
     "output_type": "stream",
     "text": [
      "<class 'pandas.core.frame.DataFrame'>\n",
      "RangeIndex: 1200 entries, 0 to 1199\n",
      "Data columns (total 3 columns):\n",
      " #   Column                  Non-Null Count  Dtype \n",
      "---  ------                  --------------  ----- \n",
      " 0   Image name              1200 non-null   object\n",
      " 1   Retinopathy grade       1200 non-null   int64 \n",
      " 2   Risk of macular edema   1200 non-null   int64 \n",
      "dtypes: int64(2), object(1)\n",
      "memory usage: 28.2+ KB\n"
     ]
    }
   ],
   "source": [
    "df_total.info()"
   ]
  },
  {
   "cell_type": "markdown",
   "metadata": {},
   "source": [
    "### 2.5.2 Handling image shapes for analysis <a id='2.5.2_his_a'></a>"
   ]
  },
  {
   "cell_type": "markdown",
   "metadata": {},
   "source": [
    "Reading tif images from zip files and extracting shapes of each image for reshaping analysis purposes. This is the code we used for generating the dictionary with zip file names as keys and (image sizes, file name) as values:\n",
    "\n",
    "<p style=\"text-align:center;\"><img src=\"https://raw.githubusercontent.com/pablo-git8/retinopathy-detection/main/images/getting_imge_sizes.jpg\" alt=\"Code1\" style=\"width: 800px;\"/></p>\n",
    "\n",
    "** _Codes presented in the form of snippets are since the runtimes were quite long_"
   ]
  },
  {
   "cell_type": "markdown",
   "metadata": {},
   "source": [
    "Then this code was used for appending the name of the zip files to each row (name of tif files) and saving the data frame into a reusable (loadable) csv file. The name of the csv file is img_sizes.csv"
   ]
  },
  {
   "cell_type": "markdown",
   "metadata": {},
   "source": [
    "<p style=\"text-align:center;\"><img src=\"https://raw.githubusercontent.com/pablo-git8/retinopathy-detection/main/images/saving_df_img_sizes.jpg\" alt=\"Code1\" style=\"width: 900px;\"/></p>"
   ]
  },
  {
   "cell_type": "markdown",
   "metadata": {},
   "source": [
    "### 2.5.3 String processing for tabular data <a id='2.5.3_spro_t'></a>"
   ]
  },
  {
   "cell_type": "markdown",
   "metadata": {},
   "source": [
    "Now let's read the csv file to explore its contents and remove the 'BaseX' string from the file names to add consistency to our data frames."
   ]
  },
  {
   "cell_type": "code",
   "execution_count": 7,
   "metadata": {},
   "outputs": [],
   "source": [
    "base_df = pd.read_csv('C:/SPRINGBOARD/retinopathy-detection/data_processed/img_sizes.csv')"
   ]
  },
  {
   "cell_type": "code",
   "execution_count": 8,
   "metadata": {},
   "outputs": [
    {
     "data": {
      "text/html": [
       "<div>\n",
       "<style scoped>\n",
       "    .dataframe tbody tr th:only-of-type {\n",
       "        vertical-align: middle;\n",
       "    }\n",
       "\n",
       "    .dataframe tbody tr th {\n",
       "        vertical-align: top;\n",
       "    }\n",
       "\n",
       "    .dataframe thead th {\n",
       "        text-align: right;\n",
       "    }\n",
       "</style>\n",
       "<table border=\"1\" class=\"dataframe\">\n",
       "  <thead>\n",
       "    <tr style=\"text-align: right;\">\n",
       "      <th></th>\n",
       "      <th>File Name</th>\n",
       "      <th>Image Size</th>\n",
       "      <th>Zip File</th>\n",
       "    </tr>\n",
       "  </thead>\n",
       "  <tbody>\n",
       "    <tr>\n",
       "      <th>0</th>\n",
       "      <td>Base11/20051019_38557_0100_PP.tif</td>\n",
       "      <td>(1488, 2240, 3)</td>\n",
       "      <td>Base11.zip</td>\n",
       "    </tr>\n",
       "    <tr>\n",
       "      <th>1</th>\n",
       "      <td>Base11/20051020_43808_0100_PP.tif</td>\n",
       "      <td>(1488, 2240, 3)</td>\n",
       "      <td>Base11.zip</td>\n",
       "    </tr>\n",
       "    <tr>\n",
       "      <th>2</th>\n",
       "      <td>Base11/20051020_43832_0100_PP.tif</td>\n",
       "      <td>(1488, 2240, 3)</td>\n",
       "      <td>Base11.zip</td>\n",
       "    </tr>\n",
       "    <tr>\n",
       "      <th>3</th>\n",
       "      <td>Base11/20051020_43882_0100_PP.tif</td>\n",
       "      <td>(1488, 2240, 3)</td>\n",
       "      <td>Base11.zip</td>\n",
       "    </tr>\n",
       "    <tr>\n",
       "      <th>4</th>\n",
       "      <td>Base11/20051020_43906_0100_PP.tif</td>\n",
       "      <td>(1488, 2240, 3)</td>\n",
       "      <td>Base11.zip</td>\n",
       "    </tr>\n",
       "  </tbody>\n",
       "</table>\n",
       "</div>"
      ],
      "text/plain": [
       "                           File Name       Image Size    Zip File\n",
       "0  Base11/20051019_38557_0100_PP.tif  (1488, 2240, 3)  Base11.zip\n",
       "1  Base11/20051020_43808_0100_PP.tif  (1488, 2240, 3)  Base11.zip\n",
       "2  Base11/20051020_43832_0100_PP.tif  (1488, 2240, 3)  Base11.zip\n",
       "3  Base11/20051020_43882_0100_PP.tif  (1488, 2240, 3)  Base11.zip\n",
       "4  Base11/20051020_43906_0100_PP.tif  (1488, 2240, 3)  Base11.zip"
      ]
     },
     "execution_count": 8,
     "metadata": {},
     "output_type": "execute_result"
    }
   ],
   "source": [
    "base_df.head() # exploring the base_df"
   ]
  },
  {
   "cell_type": "code",
   "execution_count": 9,
   "metadata": {},
   "outputs": [],
   "source": [
    "base_df['Image name'] = base_df['File Name'].apply(lambda x: h.remove_base_x(x)) # removing 'BaseX' string from File name\n",
    "base_df.drop(columns=['File Name'], inplace=True) # column no longer needed for identification\n",
    "base_df = h.swap_columns(base_df, 'Image name', 'Image Size') # putting image name in the first column"
   ]
  },
  {
   "cell_type": "code",
   "execution_count": 10,
   "metadata": {},
   "outputs": [
    {
     "data": {
      "text/html": [
       "<div>\n",
       "<style scoped>\n",
       "    .dataframe tbody tr th:only-of-type {\n",
       "        vertical-align: middle;\n",
       "    }\n",
       "\n",
       "    .dataframe tbody tr th {\n",
       "        vertical-align: top;\n",
       "    }\n",
       "\n",
       "    .dataframe thead th {\n",
       "        text-align: right;\n",
       "    }\n",
       "</style>\n",
       "<table border=\"1\" class=\"dataframe\">\n",
       "  <thead>\n",
       "    <tr style=\"text-align: right;\">\n",
       "      <th></th>\n",
       "      <th>Image name</th>\n",
       "      <th>Zip File</th>\n",
       "      <th>Image Size</th>\n",
       "    </tr>\n",
       "  </thead>\n",
       "  <tbody>\n",
       "    <tr>\n",
       "      <th>0</th>\n",
       "      <td>20051019_38557_0100_PP.tif</td>\n",
       "      <td>Base11.zip</td>\n",
       "      <td>(1488, 2240, 3)</td>\n",
       "    </tr>\n",
       "    <tr>\n",
       "      <th>1</th>\n",
       "      <td>20051020_43808_0100_PP.tif</td>\n",
       "      <td>Base11.zip</td>\n",
       "      <td>(1488, 2240, 3)</td>\n",
       "    </tr>\n",
       "    <tr>\n",
       "      <th>2</th>\n",
       "      <td>20051020_43832_0100_PP.tif</td>\n",
       "      <td>Base11.zip</td>\n",
       "      <td>(1488, 2240, 3)</td>\n",
       "    </tr>\n",
       "    <tr>\n",
       "      <th>3</th>\n",
       "      <td>20051020_43882_0100_PP.tif</td>\n",
       "      <td>Base11.zip</td>\n",
       "      <td>(1488, 2240, 3)</td>\n",
       "    </tr>\n",
       "    <tr>\n",
       "      <th>4</th>\n",
       "      <td>20051020_43906_0100_PP.tif</td>\n",
       "      <td>Base11.zip</td>\n",
       "      <td>(1488, 2240, 3)</td>\n",
       "    </tr>\n",
       "  </tbody>\n",
       "</table>\n",
       "</div>"
      ],
      "text/plain": [
       "                   Image name    Zip File       Image Size\n",
       "0  20051019_38557_0100_PP.tif  Base11.zip  (1488, 2240, 3)\n",
       "1  20051020_43808_0100_PP.tif  Base11.zip  (1488, 2240, 3)\n",
       "2  20051020_43832_0100_PP.tif  Base11.zip  (1488, 2240, 3)\n",
       "3  20051020_43882_0100_PP.tif  Base11.zip  (1488, 2240, 3)\n",
       "4  20051020_43906_0100_PP.tif  Base11.zip  (1488, 2240, 3)"
      ]
     },
     "execution_count": 10,
     "metadata": {},
     "output_type": "execute_result"
    }
   ],
   "source": [
    "base_df.head() # exploring the base_df modified"
   ]
  },
  {
   "cell_type": "code",
   "execution_count": 11,
   "metadata": {},
   "outputs": [
    {
     "data": {
      "text/html": [
       "<div>\n",
       "<style scoped>\n",
       "    .dataframe tbody tr th:only-of-type {\n",
       "        vertical-align: middle;\n",
       "    }\n",
       "\n",
       "    .dataframe tbody tr th {\n",
       "        vertical-align: top;\n",
       "    }\n",
       "\n",
       "    .dataframe thead th {\n",
       "        text-align: right;\n",
       "    }\n",
       "</style>\n",
       "<table border=\"1\" class=\"dataframe\">\n",
       "  <thead>\n",
       "    <tr style=\"text-align: right;\">\n",
       "      <th></th>\n",
       "      <th>Image name</th>\n",
       "      <th>Zip File</th>\n",
       "      <th>Image Size</th>\n",
       "    </tr>\n",
       "  </thead>\n",
       "  <tbody>\n",
       "    <tr>\n",
       "      <th>1195</th>\n",
       "      <td>20051208_41318_0400_PP.tif</td>\n",
       "      <td>Base34.zip</td>\n",
       "      <td>(1536, 2304, 3)</td>\n",
       "    </tr>\n",
       "    <tr>\n",
       "      <th>1196</th>\n",
       "      <td>20051208_41373_0400_PP.tif</td>\n",
       "      <td>Base34.zip</td>\n",
       "      <td>(1536, 2304, 3)</td>\n",
       "    </tr>\n",
       "    <tr>\n",
       "      <th>1197</th>\n",
       "      <td>20051208_41570_0400_PP.tif</td>\n",
       "      <td>Base34.zip</td>\n",
       "      <td>(1536, 2304, 3)</td>\n",
       "    </tr>\n",
       "    <tr>\n",
       "      <th>1198</th>\n",
       "      <td>20051208_41707_0400_PP.tif</td>\n",
       "      <td>Base34.zip</td>\n",
       "      <td>(1536, 2304, 3)</td>\n",
       "    </tr>\n",
       "    <tr>\n",
       "      <th>1199</th>\n",
       "      <td>20051208_42314_0400_PP.tif</td>\n",
       "      <td>Base34.zip</td>\n",
       "      <td>(1536, 2304, 3)</td>\n",
       "    </tr>\n",
       "  </tbody>\n",
       "</table>\n",
       "</div>"
      ],
      "text/plain": [
       "                      Image name    Zip File       Image Size\n",
       "1195  20051208_41318_0400_PP.tif  Base34.zip  (1536, 2304, 3)\n",
       "1196  20051208_41373_0400_PP.tif  Base34.zip  (1536, 2304, 3)\n",
       "1197  20051208_41570_0400_PP.tif  Base34.zip  (1536, 2304, 3)\n",
       "1198  20051208_41707_0400_PP.tif  Base34.zip  (1536, 2304, 3)\n",
       "1199  20051208_42314_0400_PP.tif  Base34.zip  (1536, 2304, 3)"
      ]
     },
     "execution_count": 11,
     "metadata": {},
     "output_type": "execute_result"
    }
   ],
   "source": [
    "base_df.tail()"
   ]
  },
  {
   "cell_type": "markdown",
   "metadata": {},
   "source": [
    "For sanity check, let's explore the information of this data frame "
   ]
  },
  {
   "cell_type": "code",
   "execution_count": 12,
   "metadata": {},
   "outputs": [
    {
     "name": "stdout",
     "output_type": "stream",
     "text": [
      "<class 'pandas.core.frame.DataFrame'>\n",
      "RangeIndex: 1200 entries, 0 to 1199\n",
      "Data columns (total 3 columns):\n",
      " #   Column      Non-Null Count  Dtype \n",
      "---  ------      --------------  ----- \n",
      " 0   Image name  1200 non-null   object\n",
      " 1   Zip File    1200 non-null   object\n",
      " 2   Image Size  1200 non-null   object\n",
      "dtypes: object(3)\n",
      "memory usage: 28.2+ KB\n"
     ]
    }
   ],
   "source": [
    "base_df.info()"
   ]
  },
  {
   "cell_type": "markdown",
   "metadata": {},
   "source": [
    "### 2.5.4 Joining image sizes and labels <a id='2.5.4_joims_l'></a>"
   ]
  },
  {
   "cell_type": "markdown",
   "metadata": {},
   "source": [
    "Good. Now that we have this information available, let's join the two data frames into one so we can have it all together for future analysis."
   ]
  },
  {
   "cell_type": "code",
   "execution_count": 13,
   "metadata": {},
   "outputs": [],
   "source": [
    "img_labels_sizes = pd.merge(base_df, df_total, how='inner', on='Image name') # merging the two data frames"
   ]
  },
  {
   "cell_type": "markdown",
   "metadata": {},
   "source": [
    "Again, let's explore the information at the merged data frame and confirm that we, in fact, have 1200 rows."
   ]
  },
  {
   "cell_type": "code",
   "execution_count": 14,
   "metadata": {},
   "outputs": [
    {
     "name": "stdout",
     "output_type": "stream",
     "text": [
      "<class 'pandas.core.frame.DataFrame'>\n",
      "Int64Index: 1200 entries, 0 to 1199\n",
      "Data columns (total 5 columns):\n",
      " #   Column                  Non-Null Count  Dtype \n",
      "---  ------                  --------------  ----- \n",
      " 0   Image name              1200 non-null   object\n",
      " 1   Zip File                1200 non-null   object\n",
      " 2   Image Size              1200 non-null   object\n",
      " 3   Retinopathy grade       1200 non-null   int64 \n",
      " 4   Risk of macular edema   1200 non-null   int64 \n",
      "dtypes: int64(2), object(3)\n",
      "memory usage: 56.2+ KB\n"
     ]
    }
   ],
   "source": [
    "img_labels_sizes.info()"
   ]
  },
  {
   "cell_type": "markdown",
   "metadata": {},
   "source": [
    "As a final step, we will save the data into a new excel data set to future easy loading."
   ]
  },
  {
   "cell_type": "code",
   "execution_count": 15,
   "metadata": {},
   "outputs": [],
   "source": [
    "img_labels_sizes.to_csv(r'{}\\data_processed\\labels_sizes.csv'.format(dir_path), index=False) # saving the final tabular dataset"
   ]
  },
  {
   "cell_type": "markdown",
   "metadata": {},
   "source": [
    "## 2.6 Reading Image Data <a id='2.6_rimd_l'></a>"
   ]
  },
  {
   "cell_type": "markdown",
   "metadata": {},
   "source": [
    "Now that we have our tabular data ready, it is time to start with the images and provide an uncompressed image database for our next stage 03 (Exploratory Data Analysis).\n",
    "\n",
    "One crucial feature that our data needs to have for future steps in modeling stages is a homogeneous sizes. Therefore, this uncompressed database is going to have the recompilation of .tif images in one same size. This is going to be our benchmark image database since it will keep the original color and RGB features (no image processing nor operations).\n",
    "\n",
    "However, before doing so, we need to confirm how many image sizes we have so we can apply a re-shaping operation in a correct way."
   ]
  },
  {
   "cell_type": "markdown",
   "metadata": {},
   "source": [
    "### 2.6.1 Dealing with image sizes <a id='2.6.1_dims_l'></a>"
   ]
  },
  {
   "cell_type": "markdown",
   "metadata": {},
   "source": [
    "Let's see and confirm how many different image sizes we have among all of our images."
   ]
  },
  {
   "cell_type": "code",
   "execution_count": 16,
   "metadata": {},
   "outputs": [
    {
     "data": {
      "text/plain": [
       "{'(1488, 2240, 3)', '(1536, 2304, 3)', '(960, 1440, 3)'}"
      ]
     },
     "execution_count": 16,
     "metadata": {},
     "output_type": "execute_result"
    }
   ],
   "source": [
    "set(list(img_labels_sizes['Image Size'])) # unique sizes of all images in zip files"
   ]
  },
  {
   "cell_type": "code",
   "execution_count": 17,
   "metadata": {},
   "outputs": [
    {
     "name": "stdout",
     "output_type": "stream",
     "text": [
      "(1488, 2240, 3)\n",
      "(1536, 2304, 3)\n",
      "(960, 1440, 3)\n"
     ]
    }
   ],
   "source": [
    "# taking 3 images from different files with different sizes\n",
    "img_nparray1 = plt.imread('20051020_43808_0100_PP.tif') # (1488, 2240, 3) Base11.zip\n",
    "\n",
    "zip_file = zipfile.ZipFile('{}\\data\\{}'.format(dir_path, 'Base31.zip')) # (1536, 2304, 3) Base31.zip\n",
    "ifile = zip_file.open('20051116_44482_0400_PP.tif')\n",
    "img_nparray2 = np.asarray(Image.open(ifile))\n",
    "\n",
    "zip_file = zipfile.ZipFile('{}\\data\\{}'.format(dir_path, 'Base21.zip')) # (960, 1440, 3) Base21.zip\n",
    "ifile = zip_file.open('20060407_41937_0200_PP.tif')\n",
    "img_nparray3 = np.asarray(Image.open(ifile))\n",
    "\n",
    "print(img_nparray1.shape)\n",
    "print(img_nparray2.shape)\n",
    "print(img_nparray3.shape)"
   ]
  },
  {
   "cell_type": "markdown",
   "metadata": {},
   "source": [
    "We have three different image sizes\n",
    "\n",
    "* (1488, 2240, 3)\n",
    "* (1453, 2304, 3)\n",
    "* (960, 1449, 3)\n",
    "\n",
    "So, we must come up with a reduced size that can fit all these three. One that can be used is **(372, 560, 3)**, however, since some of the deep learning models require to input squared-sized images to the first layer and since we are going to significantly reduce the training/computational time by using smaller images, we can reshape our database to **(800, 800, 3)**.\n",
    "\n",
    "This last step will be done in 03_EDA part, for now, we will generate our image database with the original files."
   ]
  },
  {
   "cell_type": "markdown",
   "metadata": {},
   "source": [
    "### 2.6.2 Saving data into local directory for EDA <a id='2.6.2_sdim_eda'></a>"
   ]
  },
  {
   "cell_type": "markdown",
   "metadata": {},
   "source": [
    "Since we have been already using the same code block for a couple of times, it is time to make use of our helper function to perform the reading of each file and doing a specific type of operation, this is basically what we are doing with the helper function:\n",
    "\n",
    "<p style=\"text-align:center;\"><img src=\"https://raw.githubusercontent.com/pablo-git8/retinopathy-detection/main/images/helper_read_func.jpg\" alt=\"Code1\" style=\"width: 700px;\"/></p>"
   ]
  },
  {
   "cell_type": "markdown",
   "metadata": {},
   "source": [
    "So, let's now use this function to save all images in the data_processed/data_original file. In this way we will be creating our benchmark database of images in our own working directory!"
   ]
  },
  {
   "cell_type": "code",
   "execution_count": 18,
   "metadata": {},
   "outputs": [],
   "source": [
    "# Creating databse of images in our working directory\n",
    "#h.parse_images(file_names=file_names, dir_path=dir_path, op='original')"
   ]
  },
  {
   "cell_type": "markdown",
   "metadata": {},
   "source": [
    "<p style=\"text-align:center;\"><img src=\"https://raw.githubusercontent.com/pablo-git8/retinopathy-detection/main/images/creating_original_databse.jpg\" alt=\"Code1\" style=\"width: 600px;\"/></p>"
   ]
  },
  {
   "cell_type": "markdown",
   "metadata": {},
   "source": [
    "## 2.7 Summary<a id='2.7_Summary'></a>"
   ]
  },
  {
   "cell_type": "markdown",
   "metadata": {},
   "source": [
    "In this data wrangling stage, we can conclude that:\n",
    "\n",
    "- There are 1200 images stored in RGB 3D format in 12 zip files (100 images each) \n",
    "- On those zip files, a tabular spreadsheet is included with the labels referencing the images by its file names with the tif extension\n",
    "- We have three different sizes on the images: (1488, 2240, 3), (1453, 2304, 3) and (960, 1449, 3)\n",
    "- The above sizes can be somewhat large for model input, so it may be necessary to resize the images\n",
    "- This step was particularly useful to unpack all information, save it into the local directory and provide the necessary adjustment for future reading, exploring and accessing the data"
   ]
  }
 ],
 "metadata": {
  "kernelspec": {
   "display_name": "Python 3 (ipykernel)",
   "language": "python",
   "name": "python3"
  },
  "language_info": {
   "codemirror_mode": {
    "name": "ipython",
    "version": 3
   },
   "file_extension": ".py",
   "mimetype": "text/x-python",
   "name": "python",
   "nbconvert_exporter": "python",
   "pygments_lexer": "ipython3",
   "version": "3.9.7"
  }
 },
 "nbformat": 4,
 "nbformat_minor": 2
}
